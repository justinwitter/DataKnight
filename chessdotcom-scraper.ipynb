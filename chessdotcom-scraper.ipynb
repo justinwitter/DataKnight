{
 "cells": [
  {
   "cell_type": "code",
   "execution_count": 1,
   "id": "929661df",
   "metadata": {},
   "outputs": [
    {
     "ename": "ChessDotComError",
     "evalue": "<class 'chessdotcom.types.ChessDotComError'>(status_code=403, text=<!DOCTYPE html><html lang=\"en-US\"><head><title>Just a moment...</title><meta http-equiv=\"Content-Type\" content=\"text/html; charset=UTF-8\"><meta http-equiv=\"X-UA-Compatible\" content=\"IE=Edge\"><meta name=\"robots\" content=\"noindex,nofollow\"><meta name=\"viewport\" content=\"width=device-width,initial-scale=1\"><link href=\"/cdn-cgi/styles/challenges.css\" rel=\"stylesheet\"></head><body class=\"no-js\"><div class=\"main-wrapper\" role=\"main\"><div class=\"main-content\"><noscript><div id=\"challenge-error-title\"><div class=\"h2\"><span class=\"icon-wrapper\"><div class=\"heading-icon warning-icon\"></div></span><span id=\"challenge-error-text\">Enable JavaScript and cookies to continue</span></div></div></noscript></div></div><script>(function(){window._cf_chl_opt={cvId: '2',cZone: 'api.chess.com',cType: 'managed',cNounce: '30240',cRay: '7ff7028688fd1d80',cHash: '37d06e84867aa2b',cUPMDTk: \"\\/pub\\/leaderboards?__cf_chl_tk=67JeOaLegXzLdi3wVlqoWKKm0fTl.soSabJMOfTpvw8-1693503115-0-gaNycGzNCtA\",cFPWv: 'b',cTTimeMs: '1000',cMTimeMs: '0',cTplV: 5,cTplB: 'cf',cK: \"visitor-time\",fa: \"/pub/leaderboards?__cf_chl_f_tk=67JeOaLegXzLdi3wVlqoWKKm0fTl.soSabJMOfTpvw8-1693503115-0-gaNycGzNCtA\",md: \"1qJS1f0rFFqNQIdUWSsLllIbc94Z_PdWCqdX5NpoXjg-1693503115-0-AagjHuVEhxTw1KTzT51BZhFiF7Lcac0moaW-NjC25DoiYTNsNcJOAtIai1rsyZHVrppVNbuxciZhSujr3SWvVnZOPKrpbj_7VTjx6MPaIuC6eNVPsXPaOZbJ7AEI9otNkhS-T96T5ejekCBpmgRHWrFTxwfI7ZaM_PRxgEaIBwExs0BY_xqwmxCbdPGFh9pwbPzPOEOaQvB20OQoZwp1sJy_YcaoNwHiMLAD8V1NWZIsAamB4O1qOW4mptf5zngQbuiUdCX3UBQYKMqF5hNw0Ahs2p0WLc-gSg_LjDEz1_GOZNmrfuphAqeCLKhuL4SkX_Ua6wiJEEOkGcJRsFg19TjbigRLJslSfOsZXoHwWejISiuEXeEEWRDJ5hD-YAqjisDNqJOhcN-oWpw5GxbfCxb1l4hVx2Y9fylxo2s0CJNCByTUnI1TVy4txtrtW7ZmsqS7umlhC6tDBT9V6YZ19ZjtxQxLsxrsnPC98kUU_bhz134ZNAaXEXKrqz0KnICQQR114DuCaer4P19XUmIS5RCPCIeX4VEiEjsJ8Fco66cIUClCIvj_46SjvJ7GTx9vba5-r4Km_yQhNBUGoCv5v75dUKOvyj6MC7m5Bo9n2z1w4v7sxUtvu3Lff_UyX8yGD888zOrRjHE8ZPNhO2aNm6Fh8rtmD_mhuIiVZVAvjO4OrAFlf5WW5ERB2mbgmj3BCck_E5xcRapnRTcF6kFCMSfU854PaIlmXmX1ixhZaclkjdFBSRfvD5NrseSiVqwYjOInETe_yfJkShEEsFyVGrjrnXKM2v6LCWSmhr_qxWXupi251x1KlX9LDVbi9bcBlYMUBmacCvp4kFyFiSjJgvy_OzmAoO5NXGHBsAUlB5g51bRpJIrS24sBRyjLVUOVpj0G8NGUKsN0Z2Zw4svojREL0GwWuOBCZamgPrxlvT2n-SHDTIbTRv81aizNpWW7cVsfj4-PheMrZJ5FzimQF7jQ6As6NNUVGhZszhd_aznZ1xVh9iG0KL0yP0cpVrQ9eRNdRH-cY5RIcqTY3KUhJVMHP71hogZrDmnNrTLSIn1Epj3cha0FjjF1kl_q7qyl9zhfhiMf99vtBebGj2i0fkIXc9_vbbRZBJSYUvedn65QZ9ydk2-5eBniTfhQFyDIr4cD27IX76tKTuBGZw7N0Uf5En2K-Rdly845yVyIZMOUcGVCqBC1kR3xINT7plepifx7h0gugmyyPxnnaPf2_BnsL4xcM1Dgjx1jGAgE6-E1kHF1dvdpeX8cTqcANQ9aVMI6iW7HWlxpTMW027Zo4lSxcgMexMEKpZEGpjQDtXKj-OEL6jcWFpwk2dxf_HvfXtYR-cjRx24rNt_1C6FUwO8JT4pGw554u3c95NYze0T2o7ssChzoAsUs_j03gkH55PeAe_oWCzAWiti7-mR42iU-Kg6T3-hRUevFhZKMWBbIppPU2uAagQDQb3QK_v0jcvSAk94pQvD-TxejOH9bDndIHa5gDHvBm_YOpVxcE-gXA7y7O7ng6l4SaGIMBNVtZ5MnrNxxP1FmIzqMuI1l0KKnN2XZGsx1IcQPScSWjpTEaLSJTcVn68ga11h3zEpGKuyakGLItmB4e_qtIW4sFcWAN4DsSB8Q4wDU16iAcv_kUu56MSUTMsPViPovwX89ly7K15EzJ8m03ImircT5qYCIp2xN2acQ-u8QE8SmWg004-1o1OabJ9F-y4cr787uZiPSApLs4mCEATs_jlZTTJlGdHrepNDqfOHa32rfbVAO8_urIADwkvsL7bG0M5_rcP-VDo0g6sH-c-0e7jG29sHflDF4OLwrOeGNBQ5sYTr7itXLqB0janYHU8cNpkrPxByJaMRaSPTbVqeXGDuA86yBvXLhT74h8fYWKPzsHxFhyzMKdtnwZPe2XrqDHCVqWavDfAjobN4Y4lsHdJvOtmVxgBbBbnIcxq67-OiN8rCEeUkE0XY_Wy8kTT_2TDYBrQ631s-ak6kYZlV47wR2KP86G9lgK_uF0Sfzb3OyD6le5xYajJf_GMGvWBCvLdNBX-URDZQXnS0v3a3Hu6-uPtzfFQD1LvMPoieOzHflpAlst5zPgdXoTWP1B2rCbhpjZTh1u45BGupwDXHcCbi0IdZChNZJ07CRZNBbOR6smz_9j1D9w33MFlCcg4FF1j4Xqq5XHQmAfXsoPXqwewCBIdL5xis6klLVfFKvtP-cmJP0pdWwy5YYVThBBi96GIKW_6kfyf12c1f0NxDuuWCM1YnbrJKhI_hXbN52DD4QPfgEeByXwfPDWs_WlxxujOzWnRz3POLHewH9edRoecsiQHklYw4XbL7Q15pIL9qrVDwJPXsrhwp6xDrX98SIojwMKFEOfOoCHy7hwIpsc2mvZcWe_MKhi-9BDkwzdci5u7TM_Q9RonAz9WYGLrEZFuYRViWV03V2hzeIv5hTTaLH_UFsMXR63nVqp4eq1YIPp3YL_Ojkg2gF15x6QhCptGn08WwpboTweZCjSot3nLUHk9NqIdjwmfd4OEsKaBVmiy2plD4235Atqltz2iycfydYu5sReIH0lD106ca5WBnXiyTpVbYXlz9MQNR1RwpRljFPRypTYPnA0fgK0GjuOZJRvmEQJkekdGVFD4HleFZNuSd_S1vnhsA2FzrLrZfxplhISlFvvUNoYfdV6nVCSIjIj_ASvOKWxOSugg-gosIY5y4\",cRq: {ru: 'aHR0cHM6Ly9hcGkuY2hlc3MuY29tL3B1Yi9sZWFkZXJib2FyZHM=',ra: 'cHl0aG9uLXJlcXVlc3RzLzIuMjguMA==',rm: 'R0VU',d: '1HuVNzdKH30kUNUeqid6Kitb1YUwPmjM/oDLG5/tyWzT069swQmlVlK18Psg2O4PBWnGyS4FnHaL4qN1AZiliAK5DyH1xqfImleRWNPEfoH1SAW6hn10uc8Q8mi4Nqls+oTwrzgBTPme/gHQ73Tyx8LLBLIce+ppPabOAeRFjP085Y1Fci97LzA3wqfc2Cic7l1YJG8LcUlMn8Q0UWBsGrUJb3IvDOGsjpDDjiL+lwmPK3NbNAUIdJorxmI9Jt8iHG0BWsAGKQJ+JisRVRuJNaQ0Xk/fThStZMO1+nEmp7q1toDKf4KkuXsMNabUIjnhzl95xVkA/HZFIb7ABuDgD5rg9BPIWHk+z8NfMOL3nRfpLxaAwD8KlMN8dx+3Fo9uyE2F0L50CFEaPPJ7TjU0JhIu6hl4RswcWR6Ova5DE4jBxaa6bzpX3f4XQx7OIe2MLSowobzHy4vjRu8ubVZYTItXEfAGy0f9U6mz66ZVFwu/wj16Kykx+owwihrFFvbzm+wUTth15lhrRWqtavBx+HQNEw1n5tg4d3Dd+Qw7SPrRGAKKu5pQMRhp44B7Dy8p',t: 'MTY5MzUwMzExNS4yOTQwMDA=',cT: Math.floor(Date.now() / 1000),m: 'ikrb0kFMzwKlnZ9Y04LaUafUXxHb7NNvcMyPjAO5nng=',i1: 'RDW4boCKdMeQJ9I3JuAu9w==',i2: 'W8cwdqE/RkPhaeTNf2BhRA==',zh: 'mQFfcmIV15X+HE0ijfrq3Z1ehKRcjJIGDhfUaKSYuM8=',uh: 'KXOU42hMUUNBCj8raB/cd2As9NbLMb3/GhNBEShv6ew=',hh: 'EGuE0ahtNILIszXIr11UvFRQh2K7u6ykBalHqwDQljU=',}};var cpo = document.createElement('script');cpo.src = '/cdn-cgi/challenge-platform/h/b/orchestrate/chl_page/v1?ray=7ff7028688fd1d80';window._cf_chl_opt.cOgUHash = location.hash === '' && location.href.indexOf('#') !== -1 ? '#' : location.hash;window._cf_chl_opt.cOgUQuery = location.search === '' && location.href.slice(0, location.href.length - window._cf_chl_opt.cOgUHash.length).indexOf('?') !== -1 ? '?' : location.search;if (window.history && window.history.replaceState) {var ogU = location.pathname + window._cf_chl_opt.cOgUQuery + window._cf_chl_opt.cOgUHash;history.replaceState(null, null, \"\\/pub\\/leaderboards?__cf_chl_rt_tk=67JeOaLegXzLdi3wVlqoWKKm0fTl.soSabJMOfTpvw8-1693503115-0-gaNycGzNCtA\" + window._cf_chl_opt.cOgUHash);cpo.onload = function() {history.replaceState(null, null, ogU);};}document.getElementsByTagName('head')[0].appendChild(cpo);}());</script></body></html>)",
     "output_type": "error",
     "traceback": [
      "\u001b[0;31m---------------------------------------------------------------------------\u001b[0m",
      "\u001b[0;31mChessDotComError\u001b[0m                          Traceback (most recent call last)",
      "\u001b[0;32m<ipython-input-1-455f5c0fd203>\u001b[0m in \u001b[0;36m<module>\u001b[0;34m\u001b[0m\n\u001b[1;32m      5\u001b[0m     \u001b[0mprint\u001b[0m\u001b[0;34m(\u001b[0m\u001b[0;34m\"Success!\"\u001b[0m\u001b[0;34m)\u001b[0m\u001b[0;34m\u001b[0m\u001b[0;34m\u001b[0m\u001b[0m\n\u001b[1;32m      6\u001b[0m \u001b[0;34m\u001b[0m\u001b[0m\n\u001b[0;32m----> 7\u001b[0;31m \u001b[0mprint_leaderboards\u001b[0m\u001b[0;34m(\u001b[0m\u001b[0;34m)\u001b[0m\u001b[0;34m\u001b[0m\u001b[0;34m\u001b[0m\u001b[0m\n\u001b[0m",
      "\u001b[0;32m<ipython-input-1-455f5c0fd203>\u001b[0m in \u001b[0;36mprint_leaderboards\u001b[0;34m()\u001b[0m\n\u001b[1;32m      2\u001b[0m \u001b[0;34m\u001b[0m\u001b[0m\n\u001b[1;32m      3\u001b[0m \u001b[0;32mdef\u001b[0m \u001b[0mprint_leaderboards\u001b[0m\u001b[0;34m(\u001b[0m\u001b[0;34m)\u001b[0m\u001b[0;34m:\u001b[0m\u001b[0;34m\u001b[0m\u001b[0;34m\u001b[0m\u001b[0m\n\u001b[0;32m----> 4\u001b[0;31m     \u001b[0mdata\u001b[0m \u001b[0;34m=\u001b[0m \u001b[0mget_leaderboards\u001b[0m\u001b[0;34m(\u001b[0m\u001b[0;34m)\u001b[0m\u001b[0;34m.\u001b[0m\u001b[0mjson\u001b[0m\u001b[0;34m\u001b[0m\u001b[0;34m\u001b[0m\u001b[0m\n\u001b[0m\u001b[1;32m      5\u001b[0m     \u001b[0mprint\u001b[0m\u001b[0;34m(\u001b[0m\u001b[0;34m\"Success!\"\u001b[0m\u001b[0;34m)\u001b[0m\u001b[0;34m\u001b[0m\u001b[0;34m\u001b[0m\u001b[0m\n\u001b[1;32m      6\u001b[0m \u001b[0;34m\u001b[0m\u001b[0m\n",
      "\u001b[0;32m~/opt/anaconda3/lib/python3.8/site-packages/chessdotcom/client.py\u001b[0m in \u001b[0;36mwrapper\u001b[0;34m(*args, **kwargs)\u001b[0m\n\u001b[1;32m    116\u001b[0m         \u001b[0;34m@\u001b[0m\u001b[0mwraps\u001b[0m\u001b[0;34m(\u001b[0m\u001b[0mfunc\u001b[0m\u001b[0;34m)\u001b[0m\u001b[0;34m\u001b[0m\u001b[0;34m\u001b[0m\u001b[0m\n\u001b[1;32m    117\u001b[0m         \u001b[0;32mdef\u001b[0m \u001b[0mwrapper\u001b[0m\u001b[0;34m(\u001b[0m\u001b[0;34m*\u001b[0m\u001b[0margs\u001b[0m\u001b[0;34m,\u001b[0m \u001b[0;34m**\u001b[0m\u001b[0mkwargs\u001b[0m\u001b[0;34m)\u001b[0m\u001b[0;34m:\u001b[0m\u001b[0;34m\u001b[0m\u001b[0;34m\u001b[0m\u001b[0m\n\u001b[0;32m--> 118\u001b[0;31m             \u001b[0;32mreturn\u001b[0m \u001b[0mcls\u001b[0m\u001b[0;34m.\u001b[0m\u001b[0mdo_get_request\u001b[0m\u001b[0;34m(\u001b[0m\u001b[0mfunc\u001b[0m\u001b[0;34m(\u001b[0m\u001b[0;34m*\u001b[0m\u001b[0margs\u001b[0m\u001b[0;34m,\u001b[0m \u001b[0;34m**\u001b[0m\u001b[0mkwargs\u001b[0m\u001b[0;34m)\u001b[0m\u001b[0;34m)\u001b[0m\u001b[0;34m\u001b[0m\u001b[0;34m\u001b[0m\u001b[0m\n\u001b[0m\u001b[1;32m    119\u001b[0m \u001b[0;34m\u001b[0m\u001b[0m\n\u001b[1;32m    120\u001b[0m         \u001b[0;32mreturn\u001b[0m \u001b[0mwrapper\u001b[0m\u001b[0;34m\u001b[0m\u001b[0;34m\u001b[0m\u001b[0m\n",
      "\u001b[0;32m~/opt/anaconda3/lib/python3.8/site-packages/chessdotcom/client.py\u001b[0m in \u001b[0;36mdo_get_request\u001b[0;34m(cls, resource)\u001b[0m\n\u001b[1;32m    110\u001b[0m         )\n\u001b[1;32m    111\u001b[0m \u001b[0;34m\u001b[0m\u001b[0m\n\u001b[0;32m--> 112\u001b[0;31m         \u001b[0;32mreturn\u001b[0m \u001b[0m_do_get_request\u001b[0m\u001b[0;34m(\u001b[0m\u001b[0mresource\u001b[0m\u001b[0;34m)\u001b[0m\u001b[0;34m\u001b[0m\u001b[0;34m\u001b[0m\u001b[0m\n\u001b[0m\u001b[1;32m    113\u001b[0m \u001b[0;34m\u001b[0m\u001b[0m\n\u001b[1;32m    114\u001b[0m     \u001b[0;34m@\u001b[0m\u001b[0mclassmethod\u001b[0m\u001b[0;34m\u001b[0m\u001b[0;34m\u001b[0m\u001b[0m\n",
      "\u001b[0;32m~/opt/anaconda3/lib/python3.8/site-packages/chessdotcom/client.py\u001b[0m in \u001b[0;36m_do_sync_get_request\u001b[0;34m(cls, resource)\u001b[0m\n\u001b[1;32m     76\u001b[0m             \u001b[0;32mif\u001b[0m \u001b[0mcls\u001b[0m\u001b[0;34m.\u001b[0m\u001b[0mrate_limit_handler\u001b[0m\u001b[0;34m.\u001b[0m\u001b[0mshould_try_again\u001b[0m\u001b[0;34m(\u001b[0m\u001b[0mr\u001b[0m\u001b[0;34m.\u001b[0m\u001b[0mstatus_code\u001b[0m\u001b[0;34m,\u001b[0m \u001b[0mresource\u001b[0m\u001b[0;34m)\u001b[0m\u001b[0;34m:\u001b[0m\u001b[0;34m\u001b[0m\u001b[0;34m\u001b[0m\u001b[0m\n\u001b[1;32m     77\u001b[0m                 \u001b[0;32mreturn\u001b[0m \u001b[0mcls\u001b[0m\u001b[0;34m.\u001b[0m\u001b[0m_do_sync_get_request\u001b[0m\u001b[0;34m(\u001b[0m\u001b[0mresource\u001b[0m\u001b[0;34m)\u001b[0m\u001b[0;34m\u001b[0m\u001b[0;34m\u001b[0m\u001b[0m\n\u001b[0;32m---> 78\u001b[0;31m             raise ChessDotComError(\n\u001b[0m\u001b[1;32m     79\u001b[0m                 \u001b[0mstatus_code\u001b[0m\u001b[0;34m=\u001b[0m\u001b[0mr\u001b[0m\u001b[0;34m.\u001b[0m\u001b[0mstatus_code\u001b[0m\u001b[0;34m,\u001b[0m \u001b[0mresponse_text\u001b[0m\u001b[0;34m=\u001b[0m\u001b[0mr\u001b[0m\u001b[0;34m.\u001b[0m\u001b[0mtext\u001b[0m\u001b[0;34m,\u001b[0m \u001b[0mheaders\u001b[0m\u001b[0;34m=\u001b[0m\u001b[0mr\u001b[0m\u001b[0;34m.\u001b[0m\u001b[0mheaders\u001b[0m\u001b[0;34m\u001b[0m\u001b[0;34m\u001b[0m\u001b[0m\n\u001b[1;32m     80\u001b[0m             )\n",
      "\u001b[0;31mChessDotComError\u001b[0m: <class 'chessdotcom.types.ChessDotComError'>(status_code=403, text=<!DOCTYPE html><html lang=\"en-US\"><head><title>Just a moment...</title><meta http-equiv=\"Content-Type\" content=\"text/html; charset=UTF-8\"><meta http-equiv=\"X-UA-Compatible\" content=\"IE=Edge\"><meta name=\"robots\" content=\"noindex,nofollow\"><meta name=\"viewport\" content=\"width=device-width,initial-scale=1\"><link href=\"/cdn-cgi/styles/challenges.css\" rel=\"stylesheet\"></head><body class=\"no-js\"><div class=\"main-wrapper\" role=\"main\"><div class=\"main-content\"><noscript><div id=\"challenge-error-title\"><div class=\"h2\"><span class=\"icon-wrapper\"><div class=\"heading-icon warning-icon\"></div></span><span id=\"challenge-error-text\">Enable JavaScript and cookies to continue</span></div></div></noscript></div></div><script>(function(){window._cf_chl_opt={cvId: '2',cZone: 'api.chess.com',cType: 'managed',cNounce: '30240',cRay: '7ff7028688fd1d80',cHash: '37d06e84867aa2b',cUPMDTk: \"\\/pub\\/leaderboards?__cf_chl_tk=67JeOaLegXzLdi3wVlqoWKKm0fTl.soSabJMOfTpvw8-1693503115-0-gaNycGzNCtA\",cFPWv: 'b',cTTimeMs: '1000',cMTimeMs: '0',cTplV: 5,cTplB: 'cf',cK: \"visitor-time\",fa: \"/pub/leaderboards?__cf_chl_f_tk=67JeOaLegXzLdi3wVlqoWKKm0fTl.soSabJMOfTpvw8-1693503115-0-gaNycGzNCtA\",md: \"1qJS1f0rFFqNQIdUWSsLllIbc94Z_PdWCqdX5NpoXjg-1693503115-0-AagjHuVEhxTw1KTzT51BZhFiF7Lcac0moaW-NjC25DoiYTNsNcJOAtIai1rsyZHVrppVNbuxciZhSujr3SWvVnZOPKrpbj_7VTjx6MPaIuC6eNVPsXPaOZbJ7AEI9otNkhS-T96T5ejekCBpmgRHWrFTxwfI7ZaM_PRxgEaIBwExs0BY_xqwmxCbdPGFh9pwbPzPOEOaQvB20OQoZwp1sJy_YcaoNwHiMLAD8V1NWZIsAamB4O1qOW4mptf5zngQbuiUdCX3UBQYKMqF5hNw0Ahs2p0WLc-gSg_LjDEz1_GOZNmrfuphAqeCLKhuL4SkX_Ua6wiJEEOkGcJRsFg19TjbigRLJslSfOsZXoHwWejISiuEXeEEWRDJ5hD-YAqjisDNqJOhcN-oWpw5GxbfCxb1l4hVx2Y9fylxo2s0CJNCByTUnI1TVy4txtrtW7ZmsqS7umlhC6tDBT9V6YZ19ZjtxQxLsxrsnPC98kUU_bhz134ZNAaXEXKrqz0KnICQQR114DuCaer4P19XUmIS5RCPCIeX4VEiEjsJ8Fco66cIUClCIvj_46SjvJ7GTx9vba5-r4Km_yQhNBUGoCv5v75dUKOvyj6MC7m5Bo9n2z1w4v7sxUtvu3Lff_UyX8yGD888zOrRjHE8ZPNhO2aNm6Fh8rtmD_mhuIiVZVAvjO4OrAFlf5WW5ERB2mbgmj3BCck_E5xcRapnRTcF6kFCMSfU854PaIlmXmX1ixhZaclkjdFBSRfvD5NrseSiVqwYjOInETe_yfJkShEEsFyVGrjrnXKM2v6LCWSmhr_qxWXupi251x1KlX9LDVbi9bcBlYMUBmacCvp4kFyFiSjJgvy_OzmAoO5NXGHBsAUlB5g51bRpJIrS24sBRyjLVUOVpj0G8NGUKsN0Z2Zw4svojREL0GwWuOBCZamgPrxlvT2n-SHDTIbTRv81aizNpWW7cVsfj4-PheMrZJ5FzimQF7jQ6As6NNUVGhZszhd_aznZ1xVh9iG0KL0yP0cpVrQ9eRNdRH-cY5RIcqTY3KUhJVMHP71hogZrDmnNrTLSIn1Epj3cha0FjjF1kl_q7qyl9zhfhiMf99vtBebGj2i0fkIXc9_vbbRZBJSYUvedn65QZ9ydk2-5eBniTfhQFyDIr4cD27IX76tKTuBGZw7N0Uf5En2K-Rdly845yVyIZMOUcGVCqBC1kR3xINT7plepifx7h0gugmyyPxnnaPf2_BnsL4xcM1Dgjx1jGAgE6-E1kHF1dvdpeX8cTqcANQ9aVMI6iW7HWlxpTMW027Zo4lSxcgMexMEKpZEGpjQDtXKj-OEL6jcWFpwk2dxf_HvfXtYR-cjRx24rNt_1C6FUwO8JT4pGw554u3c95NYze0T2o7ssChzoAsUs_j03gkH55PeAe_oWCzAWiti7-mR42iU-Kg6T3-hRUevFhZKMWBbIppPU2uAagQDQb3QK_v0jcvSAk94pQvD-TxejOH9bDndIHa5gDHvBm_YOpVxcE-gXA7y7O7ng6l4SaGIMBNVtZ5MnrNxxP1FmIzqMuI1l0KKnN2XZGsx1IcQPScSWjpTEaLSJTcVn68ga11h3zEpGKuyakGLItmB4e_qtIW4sFcWAN4DsSB8Q4wDU16iAcv_kUu56MSUTMsPViPovwX89ly7K15EzJ8m03ImircT5qYCIp2xN2acQ-u8QE8SmWg004-1o1OabJ9F-y4cr787uZiPSApLs4mCEATs_jlZTTJlGdHrepNDqfOHa32rfbVAO8_urIADwkvsL7bG0M5_rcP-VDo0g6sH-c-0e7jG29sHflDF4OLwrOeGNBQ5sYTr7itXLqB0janYHU8cNpkrPxByJaMRaSPTbVqeXGDuA86yBvXLhT74h8fYWKPzsHxFhyzMKdtnwZPe2XrqDHCVqWavDfAjobN4Y4lsHdJvOtmVxgBbBbnIcxq67-OiN8rCEeUkE0XY_Wy8kTT_2TDYBrQ631s-ak6kYZlV47wR2KP86G9lgK_uF0Sfzb3OyD6le5xYajJf_GMGvWBCvLdNBX-URDZQXnS0v3a3Hu6-uPtzfFQD1LvMPoieOzHflpAlst5zPgdXoTWP1B2rCbhpjZTh1u45BGupwDXHcCbi0IdZChNZJ07CRZNBbOR6smz_9j1D9w33MFlCcg4FF1j4Xqq5XHQmAfXsoPXqwewCBIdL5xis6klLVfFKvtP-cmJP0pdWwy5YYVThBBi96GIKW_6kfyf12c1f0NxDuuWCM1YnbrJKhI_hXbN52DD4QPfgEeByXwfPDWs_WlxxujOzWnRz3POLHewH9edRoecsiQHklYw4XbL7Q15pIL9qrVDwJPXsrhwp6xDrX98SIojwMKFEOfOoCHy7hwIpsc2mvZcWe_MKhi-9BDkwzdci5u7TM_Q9RonAz9WYGLrEZFuYRViWV03V2hzeIv5hTTaLH_UFsMXR63nVqp4eq1YIPp3YL_Ojkg2gF15x6QhCptGn08WwpboTweZCjSot3nLUHk9NqIdjwmfd4OEsKaBVmiy2plD4235Atqltz2iycfydYu5sReIH0lD106ca5WBnXiyTpVbYXlz9MQNR1RwpRljFPRypTYPnA0fgK0GjuOZJRvmEQJkekdGVFD4HleFZNuSd_S1vnhsA2FzrLrZfxplhISlFvvUNoYfdV6nVCSIjIj_ASvOKWxOSugg-gosIY5y4\",cRq: {ru: 'aHR0cHM6Ly9hcGkuY2hlc3MuY29tL3B1Yi9sZWFkZXJib2FyZHM=',ra: 'cHl0aG9uLXJlcXVlc3RzLzIuMjguMA==',rm: 'R0VU',d: '1HuVNzdKH30kUNUeqid6Kitb1YUwPmjM/oDLG5/tyWzT069swQmlVlK18Psg2O4PBWnGyS4FnHaL4qN1AZiliAK5DyH1xqfImleRWNPEfoH1SAW6hn10uc8Q8mi4Nqls+oTwrzgBTPme/gHQ73Tyx8LLBLIce+ppPabOAeRFjP085Y1Fci97LzA3wqfc2Cic7l1YJG8LcUlMn8Q0UWBsGrUJb3IvDOGsjpDDjiL+lwmPK3NbNAUIdJorxmI9Jt8iHG0BWsAGKQJ+JisRVRuJNaQ0Xk/fThStZMO1+nEmp7q1toDKf4KkuXsMNabUIjnhzl95xVkA/HZFIb7ABuDgD5rg9BPIWHk+z8NfMOL3nRfpLxaAwD8KlMN8dx+3Fo9uyE2F0L50CFEaPPJ7TjU0JhIu6hl4RswcWR6Ova5DE4jBxaa6bzpX3f4XQx7OIe2MLSowobzHy4vjRu8ubVZYTItXEfAGy0f9U6mz66ZVFwu/wj16Kykx+owwihrFFvbzm+wUTth15lhrRWqtavBx+HQNEw1n5tg4d3Dd+Qw7SPrRGAKKu5pQMRhp44B7Dy8p',t: 'MTY5MzUwMzExNS4yOTQwMDA=',cT: Math.floor(Date.now() / 1000),m: 'ikrb0kFMzwKlnZ9Y04LaUafUXxHb7NNvcMyPjAO5nng=',i1: 'RDW4boCKdMeQJ9I3JuAu9w==',i2: 'W8cwdqE/RkPhaeTNf2BhRA==',zh: 'mQFfcmIV15X+HE0ijfrq3Z1ehKRcjJIGDhfUaKSYuM8=',uh: 'KXOU42hMUUNBCj8raB/cd2As9NbLMb3/GhNBEShv6ew=',hh: 'EGuE0ahtNILIszXIr11UvFRQh2K7u6ykBalHqwDQljU=',}};var cpo = document.createElement('script');cpo.src = '/cdn-cgi/challenge-platform/h/b/orchestrate/chl_page/v1?ray=7ff7028688fd1d80';window._cf_chl_opt.cOgUHash = location.hash === '' && location.href.indexOf('#') !== -1 ? '#' : location.hash;window._cf_chl_opt.cOgUQuery = location.search === '' && location.href.slice(0, location.href.length - window._cf_chl_opt.cOgUHash.length).indexOf('?') !== -1 ? '?' : location.search;if (window.history && window.history.replaceState) {var ogU = location.pathname + window._cf_chl_opt.cOgUQuery + window._cf_chl_opt.cOgUHash;history.replaceState(null, null, \"\\/pub\\/leaderboards?__cf_chl_rt_tk=67JeOaLegXzLdi3wVlqoWKKm0fTl.soSabJMOfTpvw8-1693503115-0-gaNycGzNCtA\" + window._cf_chl_opt.cOgUHash);cpo.onload = function() {history.replaceState(null, null, ogU);};}document.getElementsByTagName('head')[0].appendChild(cpo);}());</script></body></html>)"
     ]
    }
   ],
   "source": [
    "from chessdotcom import get_leaderboards\n",
    "\n",
    "def print_leaderboards():\n",
    "    data = get_leaderboards().json\n",
    "    print(\"Success!\")\n",
    "\n",
    "print_leaderboards()"
   ]
  },
  {
   "cell_type": "code",
   "execution_count": 8,
   "id": "ad239ced",
   "metadata": {},
   "outputs": [
    {
     "ename": "ChessDotComError",
     "evalue": "<class 'chessdotcom.types.ChessDotComError'>(status_code=403, text=<!DOCTYPE html><html lang=\"en-US\"><head><title>Just a moment...</title><meta http-equiv=\"Content-Type\" content=\"text/html; charset=UTF-8\"><meta http-equiv=\"X-UA-Compatible\" content=\"IE=Edge\"><meta name=\"robots\" content=\"noindex,nofollow\"><meta name=\"viewport\" content=\"width=device-width,initial-scale=1\"><link href=\"/cdn-cgi/styles/challenges.css\" rel=\"stylesheet\"></head><body class=\"no-js\"><div class=\"main-wrapper\" role=\"main\"><div class=\"main-content\"><noscript><div id=\"challenge-error-title\"><div class=\"h2\"><span class=\"icon-wrapper\"><div class=\"heading-icon warning-icon\"></div></span><span id=\"challenge-error-text\">Enable JavaScript and cookies to continue</span></div></div></noscript></div></div><script>(function(){window._cf_chl_opt={cvId: '2',cZone: 'api.chess.com',cType: 'managed',cNounce: '27540',cRay: '7ff21d8a79f2adc6',cHash: '6462a37081a7180',cUPMDTk: \"\\/pub\\/leaderboards?__cf_chl_tk=tN5AKiTWdXFtrrii4Mclf1ZOJHINJJRUHn0PyYg7sfg-1693451793-0-gaNycGzNCuU\",cFPWv: 'b',cTTimeMs: '1000',cMTimeMs: '0',cTplV: 5,cTplB: 'cf',cK: \"\",fa: \"/pub/leaderboards?__cf_chl_f_tk=tN5AKiTWdXFtrrii4Mclf1ZOJHINJJRUHn0PyYg7sfg-1693451793-0-gaNycGzNCuU\",md: \"nKgZxuGB9PQ.HOlqy9b_wfeiUowCMvSjIPAinhcxi3o-1693451793-0-AeiNqyCMPrLuaFPSV5ALBOoXrLIyWr1sP5O5qO2ouHT--Mx9CmS-S_S_eRdkDMDh4HSF8OJNHCHFUZk72Gp2WjpmJ4qDmBWS3eqNv_VsBX0sehyHK2wY4rGo5976WOMBN4btjo-B6cCi0NQ4DV6ht6O7odVzk4vAW8IAfjpEWiNdaPnJjmknFGr5vMBrKvfI0NVdFRAV-DW_1gwuPtn4j3JM0outfevV0VIVJHaa7UENPQZcv3vyFYYWEZ06d-7yNReE_cJsB6gVgzWrm4Kqh1JJ5JmLQ7kEGFokniRBzi0atsr0eiXpPczNvomGDtwx-odNeiYbRwzqpYs6X0KA2O-Y0A3cl380rIYWrekqgH-Y1q02UpHGn7oaR_j_v_U9Zwvm1UqZlC3x8XWQFu0olFFde8831UTAODc_hxAL74-DxlH_0d_2fzrROfbzAh349hrtIgSW22rXNwIrbKQa92jUZBzVrpE6ZAAc_5Ojbi8rYQnzrDoZvrBJPLIKZpDrXAlLmj08Fjrz2YGbp8NCFyGqyQhKjA66kvKctPI5S-jcFe9oT0SzlRCjEZp5L5FawaaMDTOT2ogRaAdFfhPwIiUw94gtN8J7yED2vw716Bzeyy8RZMLbcedkjePMg5b0R5X7Sy54XnYn3nvMlPWLUpnZ0GQw8VnPC728S1Kd5tFBmx84pMyTMh_YtI1Eqh4u9tBbuqE2SnPZLTv2XpjBC6EHnPYZVdnV4u-05V6y4FB5Ti7m8ZxRAAbtpNrtiYLDGkO5GBTHTZNzmbMoyPHMUYiuuLsASuzEdBvKSBdguPLRji4GouY41xDL6Q2KlSSFV7BesneP7tOoHlvybH0FAhjcHdcDn5HBZphzg-fRsK82MDEABusKuSnt4ZHmCPt5U9ZI5dIlKSVhkeVJUVVm9Q1zaqGLjEdqQBJH9REUKYhgUwc1tt4rEcvgie-ug3VGhfu0VRPwopTU6yZdLfjhfffLQUPkjKPqxtsTJ1f5aSoKbbYiPd4vsrUkh6UhBFefQYpqKZDaDAcNuQMVcAEzl8zaA4OAvlCSkVgTKgOnbBxD-s9kawdSrWugIsnl_KDtMzvB-_TfWHudAQaUj7QMfqQXsR1zgsCHD63g00Bxu2eq5C291yjy4PNtVl9lJy0eMy6v9uDBtPEaZk1oJimhnPStU-VNDqRqK1qg5nz6yUltHSCYakQh5Uy04zloBh3nGxPmQqUJfnmzmw1GrnoPY6zAiONbmktW1oKSUTLnU2rjX_dz2xwB1QKhZbRSKauBtM9hZpbjyV10jNtNt2OazPzaV3dPFN4baOea2VTvCGevsv7_iNs6_dc64ltEcCvTITUkJf74X5VrhqP5PZEcY9x2zPcffWMxlwguNuswNut7GkU8NdiJqbV4FCxqrpwZBVnFOlpoRRiITyGKfOBp9pCo_HBANrtCkQx9JRj_6KmqblJJHLkPboEmkiaf-2dM7zy1bxH5mscrGMzGAzwJhDQ-NgcczmY5F8mwR2fjCGy5Br6c8TX-3R-7TJQLv-zdfmE6-LthOdMs1DsguAotHAWT0WDXNoBoPPe887tgenggxijgXMxv2UihXZG4iKr-euZuHDZUqUcnmtktDFYoRsrgyGd5MM9OMjhQuLJrHSBIC3Zp3alSlYF4kKSME58myFQJOuZxcx8wxmHd7DmDm7a9gDaC-p0Qi9picMrdaTnwyx4JYEL2Zw6bVhoQp-GHp0MmXAU0mOHgSjuRBGtKNM2P53no5RD-7vWtpk800fW4_v_o6ADqXJtoEiEus-ljcUByY5DfbAr2frVNEaG4gQKB6h4OVH2rp0VpL4fv3LqDrOiQPemU49jEcE-fk41lp6sP6FkF3DWYbExc1nWYYBq9KCC7qUm0xCZ90E8yNyIeJr-NJb9pIZJWTaNBaAWGot39KjGopcHYPFTQiXk7QEn6IHz5ktYhsRFZfSExH6_R_oMILoMuOPyrLgLj-nsSXOiW8sE-YzWTntnSw5TosVdkhP6b99WAennkYcwDOKcLLtMPSJvHtFaFZS7BmRAZFq6Wgk9rMEiJf1Nk46pHKjjw97wQVl1c5EVyrubb7yvJyND3oSXgOPVYnp-oh99zvL1r1stNU3CEtn07EF4eGBQXgU2R6oMLIIt0JziK6wyyjwH9Vf9bewDG2xSDExmSpCnjPORlSiCdmfEoLif09wL07L-V4Gcq_5vgvNE9cGZFNTCQC8FPpzsCFg-rPRfzhj8eKT__YMKG2jjRmyT6t7irIjRQLNL7SCFqdzITuW85wGf_UADNdY6CWLejd6RXAB9idw9XeNSSXD8tfI5BvaS-1tb-dFZVJQIwXSx9J-F-TSoQf6sk5joEPdl4FsAQmPXeBb760nbea8vV5mATfJWBiNlPq1MBM7xBqvaMzuR69jkaZCpr0_EJgn-ZvmUeuPFXpyPuMCHk5syK8UgfRnFIx56cuUVanQ4-Mx7tAXtmqJ_QIaSh5cMdh9EjQc5wOhgoRh1KWiZLtmexmy0LdhLHQZoQhRLV4OqgswpgTz551DwT602RT5_yhH0j4T9W9gNf-ZLQ9HbpfEB7tHJNIRiPbCYp36dUjFVW1jXRAOWlNBB1ZB4Ul5-H_zdAa1BtvERW6evfN01IJhw8VpuK2p0870O-FUYVvCrwA3TvZ_nqggRaZktik_JvjkG2Tdx1SCw8CjvRY1mpKKE0DC0ZJzaqU305u2JNmtwtstoZYKcY\",cRq: {ru: 'aHR0cHM6Ly9hcGkuY2hlc3MuY29tL3B1Yi9sZWFkZXJib2FyZHM=',ra: 'cHl0aG9uLXJlcXVlc3RzLzIuMjguMA==',rm: 'R0VU',d: 'CcCsSJMmMI/cieeIDatwtrNxX3YWZgpMfUUu0XzH+qyYOZ3zwuOLFh3BvnPfMz4KU4fHlcAJD2O3mzV5IAAtxQykVnBKZvkK6U/FdVqFHu9YKI0Uk4NVFCWRrynGyR9PMZMECNq2KLPBnFWSUhiGxEnGvNb/T9N0/3EO9uA2hv5K4p5xlh707p1wkXVDAJf9ORxJ3pycLpoXZfgoEZJJfl2hJnmSTL8qJ7qSqsrLOkjWhflPpUW7MpFn05S0OaB4mvkrwp1T7WuZoBHlFGIZk8xCr3uo/c2bU6PJVlcuBF6zV1DZ4yz7C1rVc2eSGdZ7y6m4I5DITBeVaj0T7560KgvQFsd++VfI+Is2dINt+W9Yt3WRBrV9zEJ6rl2dvBU5YqBUAZskW9a6d8y8UgcJX/JyPQibo/QrxxVX0gqBZIalDkFjhAF/of1g0+Qe+yV71jaI/fz0Ei03A8RUFMEV235NcBhj9mz4zGWQEpfXjK6u0oHCBU5g99Tod3iqJ08GkqKDi09JbCopxfpP+8RWLMeEI2+LBn1LZ/TPLIMnnMj82BQcm3EUtkvaxnGWIbgK',t: 'MTY5MzQ1MTc5My4wMzcwMDA=',cT: Math.floor(Date.now() / 1000),m: '74KceRspubnDYgpZ2aa5BFECAREA4hnCufiHa4aS5vc=',i1: '/Nu4Cr8SEcLbkelDVFDo3w==',i2: 'ttLwvQuPDm0DKmk29xkjyw==',zh: 'mQFfcmIV15X+HE0ijfrq3Z1ehKRcjJIGDhfUaKSYuM8=',uh: 'KXOU42hMUUNBCj8raB/cd2As9NbLMb3/GhNBEShv6ew=',hh: 'EGuE0ahtNILIszXIr11UvFRQh2K7u6ykBalHqwDQljU=',}};var cpo = document.createElement('script');cpo.src = '/cdn-cgi/challenge-platform/h/b/orchestrate/chl_page/v1?ray=7ff21d8a79f2adc6';window._cf_chl_opt.cOgUHash = location.hash === '' && location.href.indexOf('#') !== -1 ? '#' : location.hash;window._cf_chl_opt.cOgUQuery = location.search === '' && location.href.slice(0, location.href.length - window._cf_chl_opt.cOgUHash.length).indexOf('?') !== -1 ? '?' : location.search;if (window.history && window.history.replaceState) {var ogU = location.pathname + window._cf_chl_opt.cOgUQuery + window._cf_chl_opt.cOgUHash;history.replaceState(null, null, \"\\/pub\\/leaderboards?__cf_chl_rt_tk=tN5AKiTWdXFtrrii4Mclf1ZOJHINJJRUHn0PyYg7sfg-1693451793-0-gaNycGzNCuU\" + window._cf_chl_opt.cOgUHash);cpo.onload = function() {history.replaceState(null, null, ogU);};}document.getElementsByTagName('head')[0].appendChild(cpo);}());</script></body></html>)",
     "output_type": "error",
     "traceback": [
      "\u001b[0;31m---------------------------------------------------------------------------\u001b[0m",
      "\u001b[0;31mChessDotComError\u001b[0m                          Traceback (most recent call last)",
      "\u001b[0;32m<ipython-input-8-32f079ff7402>\u001b[0m in \u001b[0;36m<module>\u001b[0;34m\u001b[0m\n\u001b[1;32m     15\u001b[0m             \u001b[0;31m#print(f'Rank: {idx + 1} | Username: {entry[\"username\"]} | Rating: {entry[\"score\"]}')\u001b[0m\u001b[0;34m\u001b[0m\u001b[0;34m\u001b[0m\u001b[0;34m\u001b[0m\u001b[0m\n\u001b[1;32m     16\u001b[0m \u001b[0;34m\u001b[0m\u001b[0m\n\u001b[0;32m---> 17\u001b[0;31m \u001b[0mprint_leaderboards\u001b[0m\u001b[0;34m(\u001b[0m\u001b[0;34m)\u001b[0m\u001b[0;34m\u001b[0m\u001b[0;34m\u001b[0m\u001b[0m\n\u001b[0m",
      "\u001b[0;32m<ipython-input-8-32f079ff7402>\u001b[0m in \u001b[0;36mprint_leaderboards\u001b[0;34m()\u001b[0m\n\u001b[1;32m      7\u001b[0m \u001b[0;34m\u001b[0m\u001b[0m\n\u001b[1;32m      8\u001b[0m \u001b[0;32mdef\u001b[0m \u001b[0mprint_leaderboards\u001b[0m\u001b[0;34m(\u001b[0m\u001b[0;34m)\u001b[0m\u001b[0;34m:\u001b[0m\u001b[0;34m\u001b[0m\u001b[0;34m\u001b[0m\u001b[0m\n\u001b[0;32m----> 9\u001b[0;31m     \u001b[0mdata\u001b[0m \u001b[0;34m=\u001b[0m \u001b[0mget_leaderboards\u001b[0m\u001b[0;34m(\u001b[0m\u001b[0;34m)\u001b[0m\u001b[0;34m.\u001b[0m\u001b[0mjson\u001b[0m\u001b[0;34m\u001b[0m\u001b[0;34m\u001b[0m\u001b[0m\n\u001b[0m\u001b[1;32m     10\u001b[0m     \u001b[0mcategories\u001b[0m \u001b[0;34m=\u001b[0m \u001b[0mdata\u001b[0m\u001b[0;34m.\u001b[0m\u001b[0mkeys\u001b[0m\u001b[0;34m(\u001b[0m\u001b[0;34m)\u001b[0m\u001b[0;34m\u001b[0m\u001b[0;34m\u001b[0m\u001b[0m\n\u001b[1;32m     11\u001b[0m \u001b[0;34m\u001b[0m\u001b[0m\n",
      "\u001b[0;32m~/opt/anaconda3/lib/python3.8/site-packages/chessdotcom/client.py\u001b[0m in \u001b[0;36mwrapper\u001b[0;34m(*args, **kwargs)\u001b[0m\n\u001b[1;32m    116\u001b[0m         \u001b[0;34m@\u001b[0m\u001b[0mwraps\u001b[0m\u001b[0;34m(\u001b[0m\u001b[0mfunc\u001b[0m\u001b[0;34m)\u001b[0m\u001b[0;34m\u001b[0m\u001b[0;34m\u001b[0m\u001b[0m\n\u001b[1;32m    117\u001b[0m         \u001b[0;32mdef\u001b[0m \u001b[0mwrapper\u001b[0m\u001b[0;34m(\u001b[0m\u001b[0;34m*\u001b[0m\u001b[0margs\u001b[0m\u001b[0;34m,\u001b[0m \u001b[0;34m**\u001b[0m\u001b[0mkwargs\u001b[0m\u001b[0;34m)\u001b[0m\u001b[0;34m:\u001b[0m\u001b[0;34m\u001b[0m\u001b[0;34m\u001b[0m\u001b[0m\n\u001b[0;32m--> 118\u001b[0;31m             \u001b[0;32mreturn\u001b[0m \u001b[0mcls\u001b[0m\u001b[0;34m.\u001b[0m\u001b[0mdo_get_request\u001b[0m\u001b[0;34m(\u001b[0m\u001b[0mfunc\u001b[0m\u001b[0;34m(\u001b[0m\u001b[0;34m*\u001b[0m\u001b[0margs\u001b[0m\u001b[0;34m,\u001b[0m \u001b[0;34m**\u001b[0m\u001b[0mkwargs\u001b[0m\u001b[0;34m)\u001b[0m\u001b[0;34m)\u001b[0m\u001b[0;34m\u001b[0m\u001b[0;34m\u001b[0m\u001b[0m\n\u001b[0m\u001b[1;32m    119\u001b[0m \u001b[0;34m\u001b[0m\u001b[0m\n\u001b[1;32m    120\u001b[0m         \u001b[0;32mreturn\u001b[0m \u001b[0mwrapper\u001b[0m\u001b[0;34m\u001b[0m\u001b[0;34m\u001b[0m\u001b[0m\n",
      "\u001b[0;32m~/opt/anaconda3/lib/python3.8/site-packages/chessdotcom/client.py\u001b[0m in \u001b[0;36mdo_get_request\u001b[0;34m(cls, resource)\u001b[0m\n\u001b[1;32m    110\u001b[0m         )\n\u001b[1;32m    111\u001b[0m \u001b[0;34m\u001b[0m\u001b[0m\n\u001b[0;32m--> 112\u001b[0;31m         \u001b[0;32mreturn\u001b[0m \u001b[0m_do_get_request\u001b[0m\u001b[0;34m(\u001b[0m\u001b[0mresource\u001b[0m\u001b[0;34m)\u001b[0m\u001b[0;34m\u001b[0m\u001b[0;34m\u001b[0m\u001b[0m\n\u001b[0m\u001b[1;32m    113\u001b[0m \u001b[0;34m\u001b[0m\u001b[0m\n\u001b[1;32m    114\u001b[0m     \u001b[0;34m@\u001b[0m\u001b[0mclassmethod\u001b[0m\u001b[0;34m\u001b[0m\u001b[0;34m\u001b[0m\u001b[0m\n",
      "\u001b[0;32m~/opt/anaconda3/lib/python3.8/site-packages/chessdotcom/client.py\u001b[0m in \u001b[0;36m_do_sync_get_request\u001b[0;34m(cls, resource)\u001b[0m\n\u001b[1;32m     76\u001b[0m             \u001b[0;32mif\u001b[0m \u001b[0mcls\u001b[0m\u001b[0;34m.\u001b[0m\u001b[0mrate_limit_handler\u001b[0m\u001b[0;34m.\u001b[0m\u001b[0mshould_try_again\u001b[0m\u001b[0;34m(\u001b[0m\u001b[0mr\u001b[0m\u001b[0;34m.\u001b[0m\u001b[0mstatus_code\u001b[0m\u001b[0;34m,\u001b[0m \u001b[0mresource\u001b[0m\u001b[0;34m)\u001b[0m\u001b[0;34m:\u001b[0m\u001b[0;34m\u001b[0m\u001b[0;34m\u001b[0m\u001b[0m\n\u001b[1;32m     77\u001b[0m                 \u001b[0;32mreturn\u001b[0m \u001b[0mcls\u001b[0m\u001b[0;34m.\u001b[0m\u001b[0m_do_sync_get_request\u001b[0m\u001b[0;34m(\u001b[0m\u001b[0mresource\u001b[0m\u001b[0;34m)\u001b[0m\u001b[0;34m\u001b[0m\u001b[0;34m\u001b[0m\u001b[0m\n\u001b[0;32m---> 78\u001b[0;31m             raise ChessDotComError(\n\u001b[0m\u001b[1;32m     79\u001b[0m                 \u001b[0mstatus_code\u001b[0m\u001b[0;34m=\u001b[0m\u001b[0mr\u001b[0m\u001b[0;34m.\u001b[0m\u001b[0mstatus_code\u001b[0m\u001b[0;34m,\u001b[0m \u001b[0mresponse_text\u001b[0m\u001b[0;34m=\u001b[0m\u001b[0mr\u001b[0m\u001b[0;34m.\u001b[0m\u001b[0mtext\u001b[0m\u001b[0;34m,\u001b[0m \u001b[0mheaders\u001b[0m\u001b[0;34m=\u001b[0m\u001b[0mr\u001b[0m\u001b[0;34m.\u001b[0m\u001b[0mheaders\u001b[0m\u001b[0;34m\u001b[0m\u001b[0;34m\u001b[0m\u001b[0m\n\u001b[1;32m     80\u001b[0m             )\n",
      "\u001b[0;31mChessDotComError\u001b[0m: <class 'chessdotcom.types.ChessDotComError'>(status_code=403, text=<!DOCTYPE html><html lang=\"en-US\"><head><title>Just a moment...</title><meta http-equiv=\"Content-Type\" content=\"text/html; charset=UTF-8\"><meta http-equiv=\"X-UA-Compatible\" content=\"IE=Edge\"><meta name=\"robots\" content=\"noindex,nofollow\"><meta name=\"viewport\" content=\"width=device-width,initial-scale=1\"><link href=\"/cdn-cgi/styles/challenges.css\" rel=\"stylesheet\"></head><body class=\"no-js\"><div class=\"main-wrapper\" role=\"main\"><div class=\"main-content\"><noscript><div id=\"challenge-error-title\"><div class=\"h2\"><span class=\"icon-wrapper\"><div class=\"heading-icon warning-icon\"></div></span><span id=\"challenge-error-text\">Enable JavaScript and cookies to continue</span></div></div></noscript></div></div><script>(function(){window._cf_chl_opt={cvId: '2',cZone: 'api.chess.com',cType: 'managed',cNounce: '27540',cRay: '7ff21d8a79f2adc6',cHash: '6462a37081a7180',cUPMDTk: \"\\/pub\\/leaderboards?__cf_chl_tk=tN5AKiTWdXFtrrii4Mclf1ZOJHINJJRUHn0PyYg7sfg-1693451793-0-gaNycGzNCuU\",cFPWv: 'b',cTTimeMs: '1000',cMTimeMs: '0',cTplV: 5,cTplB: 'cf',cK: \"\",fa: \"/pub/leaderboards?__cf_chl_f_tk=tN5AKiTWdXFtrrii4Mclf1ZOJHINJJRUHn0PyYg7sfg-1693451793-0-gaNycGzNCuU\",md: \"nKgZxuGB9PQ.HOlqy9b_wfeiUowCMvSjIPAinhcxi3o-1693451793-0-AeiNqyCMPrLuaFPSV5ALBOoXrLIyWr1sP5O5qO2ouHT--Mx9CmS-S_S_eRdkDMDh4HSF8OJNHCHFUZk72Gp2WjpmJ4qDmBWS3eqNv_VsBX0sehyHK2wY4rGo5976WOMBN4btjo-B6cCi0NQ4DV6ht6O7odVzk4vAW8IAfjpEWiNdaPnJjmknFGr5vMBrKvfI0NVdFRAV-DW_1gwuPtn4j3JM0outfevV0VIVJHaa7UENPQZcv3vyFYYWEZ06d-7yNReE_cJsB6gVgzWrm4Kqh1JJ5JmLQ7kEGFokniRBzi0atsr0eiXpPczNvomGDtwx-odNeiYbRwzqpYs6X0KA2O-Y0A3cl380rIYWrekqgH-Y1q02UpHGn7oaR_j_v_U9Zwvm1UqZlC3x8XWQFu0olFFde8831UTAODc_hxAL74-DxlH_0d_2fzrROfbzAh349hrtIgSW22rXNwIrbKQa92jUZBzVrpE6ZAAc_5Ojbi8rYQnzrDoZvrBJPLIKZpDrXAlLmj08Fjrz2YGbp8NCFyGqyQhKjA66kvKctPI5S-jcFe9oT0SzlRCjEZp5L5FawaaMDTOT2ogRaAdFfhPwIiUw94gtN8J7yED2vw716Bzeyy8RZMLbcedkjePMg5b0R5X7Sy54XnYn3nvMlPWLUpnZ0GQw8VnPC728S1Kd5tFBmx84pMyTMh_YtI1Eqh4u9tBbuqE2SnPZLTv2XpjBC6EHnPYZVdnV4u-05V6y4FB5Ti7m8ZxRAAbtpNrtiYLDGkO5GBTHTZNzmbMoyPHMUYiuuLsASuzEdBvKSBdguPLRji4GouY41xDL6Q2KlSSFV7BesneP7tOoHlvybH0FAhjcHdcDn5HBZphzg-fRsK82MDEABusKuSnt4ZHmCPt5U9ZI5dIlKSVhkeVJUVVm9Q1zaqGLjEdqQBJH9REUKYhgUwc1tt4rEcvgie-ug3VGhfu0VRPwopTU6yZdLfjhfffLQUPkjKPqxtsTJ1f5aSoKbbYiPd4vsrUkh6UhBFefQYpqKZDaDAcNuQMVcAEzl8zaA4OAvlCSkVgTKgOnbBxD-s9kawdSrWugIsnl_KDtMzvB-_TfWHudAQaUj7QMfqQXsR1zgsCHD63g00Bxu2eq5C291yjy4PNtVl9lJy0eMy6v9uDBtPEaZk1oJimhnPStU-VNDqRqK1qg5nz6yUltHSCYakQh5Uy04zloBh3nGxPmQqUJfnmzmw1GrnoPY6zAiONbmktW1oKSUTLnU2rjX_dz2xwB1QKhZbRSKauBtM9hZpbjyV10jNtNt2OazPzaV3dPFN4baOea2VTvCGevsv7_iNs6_dc64ltEcCvTITUkJf74X5VrhqP5PZEcY9x2zPcffWMxlwguNuswNut7GkU8NdiJqbV4FCxqrpwZBVnFOlpoRRiITyGKfOBp9pCo_HBANrtCkQx9JRj_6KmqblJJHLkPboEmkiaf-2dM7zy1bxH5mscrGMzGAzwJhDQ-NgcczmY5F8mwR2fjCGy5Br6c8TX-3R-7TJQLv-zdfmE6-LthOdMs1DsguAotHAWT0WDXNoBoPPe887tgenggxijgXMxv2UihXZG4iKr-euZuHDZUqUcnmtktDFYoRsrgyGd5MM9OMjhQuLJrHSBIC3Zp3alSlYF4kKSME58myFQJOuZxcx8wxmHd7DmDm7a9gDaC-p0Qi9picMrdaTnwyx4JYEL2Zw6bVhoQp-GHp0MmXAU0mOHgSjuRBGtKNM2P53no5RD-7vWtpk800fW4_v_o6ADqXJtoEiEus-ljcUByY5DfbAr2frVNEaG4gQKB6h4OVH2rp0VpL4fv3LqDrOiQPemU49jEcE-fk41lp6sP6FkF3DWYbExc1nWYYBq9KCC7qUm0xCZ90E8yNyIeJr-NJb9pIZJWTaNBaAWGot39KjGopcHYPFTQiXk7QEn6IHz5ktYhsRFZfSExH6_R_oMILoMuOPyrLgLj-nsSXOiW8sE-YzWTntnSw5TosVdkhP6b99WAennkYcwDOKcLLtMPSJvHtFaFZS7BmRAZFq6Wgk9rMEiJf1Nk46pHKjjw97wQVl1c5EVyrubb7yvJyND3oSXgOPVYnp-oh99zvL1r1stNU3CEtn07EF4eGBQXgU2R6oMLIIt0JziK6wyyjwH9Vf9bewDG2xSDExmSpCnjPORlSiCdmfEoLif09wL07L-V4Gcq_5vgvNE9cGZFNTCQC8FPpzsCFg-rPRfzhj8eKT__YMKG2jjRmyT6t7irIjRQLNL7SCFqdzITuW85wGf_UADNdY6CWLejd6RXAB9idw9XeNSSXD8tfI5BvaS-1tb-dFZVJQIwXSx9J-F-TSoQf6sk5joEPdl4FsAQmPXeBb760nbea8vV5mATfJWBiNlPq1MBM7xBqvaMzuR69jkaZCpr0_EJgn-ZvmUeuPFXpyPuMCHk5syK8UgfRnFIx56cuUVanQ4-Mx7tAXtmqJ_QIaSh5cMdh9EjQc5wOhgoRh1KWiZLtmexmy0LdhLHQZoQhRLV4OqgswpgTz551DwT602RT5_yhH0j4T9W9gNf-ZLQ9HbpfEB7tHJNIRiPbCYp36dUjFVW1jXRAOWlNBB1ZB4Ul5-H_zdAa1BtvERW6evfN01IJhw8VpuK2p0870O-FUYVvCrwA3TvZ_nqggRaZktik_JvjkG2Tdx1SCw8CjvRY1mpKKE0DC0ZJzaqU305u2JNmtwtstoZYKcY\",cRq: {ru: 'aHR0cHM6Ly9hcGkuY2hlc3MuY29tL3B1Yi9sZWFkZXJib2FyZHM=',ra: 'cHl0aG9uLXJlcXVlc3RzLzIuMjguMA==',rm: 'R0VU',d: 'CcCsSJMmMI/cieeIDatwtrNxX3YWZgpMfUUu0XzH+qyYOZ3zwuOLFh3BvnPfMz4KU4fHlcAJD2O3mzV5IAAtxQykVnBKZvkK6U/FdVqFHu9YKI0Uk4NVFCWRrynGyR9PMZMECNq2KLPBnFWSUhiGxEnGvNb/T9N0/3EO9uA2hv5K4p5xlh707p1wkXVDAJf9ORxJ3pycLpoXZfgoEZJJfl2hJnmSTL8qJ7qSqsrLOkjWhflPpUW7MpFn05S0OaB4mvkrwp1T7WuZoBHlFGIZk8xCr3uo/c2bU6PJVlcuBF6zV1DZ4yz7C1rVc2eSGdZ7y6m4I5DITBeVaj0T7560KgvQFsd++VfI+Is2dINt+W9Yt3WRBrV9zEJ6rl2dvBU5YqBUAZskW9a6d8y8UgcJX/JyPQibo/QrxxVX0gqBZIalDkFjhAF/of1g0+Qe+yV71jaI/fz0Ei03A8RUFMEV235NcBhj9mz4zGWQEpfXjK6u0oHCBU5g99Tod3iqJ08GkqKDi09JbCopxfpP+8RWLMeEI2+LBn1LZ/TPLIMnnMj82BQcm3EUtkvaxnGWIbgK',t: 'MTY5MzQ1MTc5My4wMzcwMDA=',cT: Math.floor(Date.now() / 1000),m: '74KceRspubnDYgpZ2aa5BFECAREA4hnCufiHa4aS5vc=',i1: '/Nu4Cr8SEcLbkelDVFDo3w==',i2: 'ttLwvQuPDm0DKmk29xkjyw==',zh: 'mQFfcmIV15X+HE0ijfrq3Z1ehKRcjJIGDhfUaKSYuM8=',uh: 'KXOU42hMUUNBCj8raB/cd2As9NbLMb3/GhNBEShv6ew=',hh: 'EGuE0ahtNILIszXIr11UvFRQh2K7u6ykBalHqwDQljU=',}};var cpo = document.createElement('script');cpo.src = '/cdn-cgi/challenge-platform/h/b/orchestrate/chl_page/v1?ray=7ff21d8a79f2adc6';window._cf_chl_opt.cOgUHash = location.hash === '' && location.href.indexOf('#') !== -1 ? '#' : location.hash;window._cf_chl_opt.cOgUQuery = location.search === '' && location.href.slice(0, location.href.length - window._cf_chl_opt.cOgUHash.length).indexOf('?') !== -1 ? '?' : location.search;if (window.history && window.history.replaceState) {var ogU = location.pathname + window._cf_chl_opt.cOgUQuery + window._cf_chl_opt.cOgUHash;history.replaceState(null, null, \"\\/pub\\/leaderboards?__cf_chl_rt_tk=tN5AKiTWdXFtrrii4Mclf1ZOJHINJJRUHn0PyYg7sfg-1693451793-0-gaNycGzNCuU\" + window._cf_chl_opt.cOgUHash);cpo.onload = function() {history.replaceState(null, null, ogU);};}document.getElementsByTagName('head')[0].appendChild(cpo);}());</script></body></html>)"
     ]
    }
   ],
   "source": [
    "#!pip install chess.com\n",
    "from chessdotcom import get_country_players, get_player_stats, get_player_game_archives, get_leaderboards\n",
    "import pprint\n",
    "import requests\n",
    "\n",
    "printer = pprint.PrettyPrinter()\n",
    "\n",
    "def print_leaderboards():\n",
    "    vdata = get_leaderboards().json\n",
    "    categories = data.keys()\n",
    "    \n",
    "    for category in categories:\n",
    "        print('Category:;', category)\n",
    "        #for idx, entry in enumerate(data[category]):\n",
    "            #print(f'Rank: {idx + 1} | Username: {entry[\"username\"]} | Rating: {entry[\"score\"]}')\n",
    "\n",
    "print_leaderboards()"
   ]
  },
  {
   "cell_type": "code",
   "execution_count": 14,
   "id": "b8e28be7",
   "metadata": {},
   "outputs": [
    {
     "ename": "TypeError",
     "evalue": "request() got an unexpected keyword argument 'User-Agent'",
     "output_type": "error",
     "traceback": [
      "\u001b[0;31m---------------------------------------------------------------------------\u001b[0m",
      "\u001b[0;31mTypeError\u001b[0m                                 Traceback (most recent call last)",
      "\u001b[0;32m<ipython-input-14-c115c49e7c76>\u001b[0m in \u001b[0;36m<module>\u001b[0;34m\u001b[0m\n\u001b[1;32m      1\u001b[0m \u001b[0;32mfrom\u001b[0m \u001b[0mchessdotcom\u001b[0m \u001b[0;32mimport\u001b[0m \u001b[0mget_player_profile\u001b[0m\u001b[0;34m\u001b[0m\u001b[0;34m\u001b[0m\u001b[0m\n\u001b[1;32m      2\u001b[0m \u001b[0;34m\u001b[0m\u001b[0m\n\u001b[0;32m----> 3\u001b[0;31m \u001b[0mresponse\u001b[0m \u001b[0;34m=\u001b[0m \u001b[0mget_player_profile\u001b[0m\u001b[0;34m(\u001b[0m\u001b[0;34m\"fabianocaruana\"\u001b[0m\u001b[0;34m)\u001b[0m\u001b[0;34m\u001b[0m\u001b[0;34m\u001b[0m\u001b[0m\n\u001b[0m\u001b[1;32m      4\u001b[0m \u001b[0;34m\u001b[0m\u001b[0m\n\u001b[1;32m      5\u001b[0m \u001b[0mplayer_name\u001b[0m \u001b[0;34m=\u001b[0m \u001b[0mresponse\u001b[0m\u001b[0;34m.\u001b[0m\u001b[0mjson\u001b[0m\u001b[0;34m[\u001b[0m\u001b[0;34m'player'\u001b[0m\u001b[0;34m]\u001b[0m\u001b[0;34m[\u001b[0m\u001b[0;34m'name'\u001b[0m\u001b[0;34m]\u001b[0m\u001b[0;34m\u001b[0m\u001b[0;34m\u001b[0m\u001b[0m\n",
      "\u001b[0;32m~/opt/anaconda3/lib/python3.8/site-packages/chessdotcom/client.py\u001b[0m in \u001b[0;36mwrapper\u001b[0;34m(*args, **kwargs)\u001b[0m\n\u001b[1;32m    116\u001b[0m         \u001b[0;34m@\u001b[0m\u001b[0mwraps\u001b[0m\u001b[0;34m(\u001b[0m\u001b[0mfunc\u001b[0m\u001b[0;34m)\u001b[0m\u001b[0;34m\u001b[0m\u001b[0;34m\u001b[0m\u001b[0m\n\u001b[1;32m    117\u001b[0m         \u001b[0;32mdef\u001b[0m \u001b[0mwrapper\u001b[0m\u001b[0;34m(\u001b[0m\u001b[0;34m*\u001b[0m\u001b[0margs\u001b[0m\u001b[0;34m,\u001b[0m \u001b[0;34m**\u001b[0m\u001b[0mkwargs\u001b[0m\u001b[0;34m)\u001b[0m\u001b[0;34m:\u001b[0m\u001b[0;34m\u001b[0m\u001b[0;34m\u001b[0m\u001b[0m\n\u001b[0;32m--> 118\u001b[0;31m             \u001b[0;32mreturn\u001b[0m \u001b[0mcls\u001b[0m\u001b[0;34m.\u001b[0m\u001b[0mdo_get_request\u001b[0m\u001b[0;34m(\u001b[0m\u001b[0mfunc\u001b[0m\u001b[0;34m(\u001b[0m\u001b[0;34m*\u001b[0m\u001b[0margs\u001b[0m\u001b[0;34m,\u001b[0m \u001b[0;34m**\u001b[0m\u001b[0mkwargs\u001b[0m\u001b[0;34m)\u001b[0m\u001b[0;34m)\u001b[0m\u001b[0;34m\u001b[0m\u001b[0;34m\u001b[0m\u001b[0m\n\u001b[0m\u001b[1;32m    119\u001b[0m \u001b[0;34m\u001b[0m\u001b[0m\n\u001b[1;32m    120\u001b[0m         \u001b[0;32mreturn\u001b[0m \u001b[0mwrapper\u001b[0m\u001b[0;34m\u001b[0m\u001b[0;34m\u001b[0m\u001b[0m\n",
      "\u001b[0;32m~/opt/anaconda3/lib/python3.8/site-packages/chessdotcom/client.py\u001b[0m in \u001b[0;36mdo_get_request\u001b[0;34m(cls, resource)\u001b[0m\n\u001b[1;32m    110\u001b[0m         )\n\u001b[1;32m    111\u001b[0m \u001b[0;34m\u001b[0m\u001b[0m\n\u001b[0;32m--> 112\u001b[0;31m         \u001b[0;32mreturn\u001b[0m \u001b[0m_do_get_request\u001b[0m\u001b[0;34m(\u001b[0m\u001b[0mresource\u001b[0m\u001b[0;34m)\u001b[0m\u001b[0;34m\u001b[0m\u001b[0;34m\u001b[0m\u001b[0m\n\u001b[0m\u001b[1;32m    113\u001b[0m \u001b[0;34m\u001b[0m\u001b[0m\n\u001b[1;32m    114\u001b[0m     \u001b[0;34m@\u001b[0m\u001b[0mclassmethod\u001b[0m\u001b[0;34m\u001b[0m\u001b[0;34m\u001b[0m\u001b[0m\n",
      "\u001b[0;32m~/opt/anaconda3/lib/python3.8/site-packages/chessdotcom/client.py\u001b[0m in \u001b[0;36m_do_sync_get_request\u001b[0;34m(cls, resource)\u001b[0m\n\u001b[1;32m     67\u001b[0m     \u001b[0;34m@\u001b[0m\u001b[0mclassmethod\u001b[0m\u001b[0;34m\u001b[0m\u001b[0;34m\u001b[0m\u001b[0m\n\u001b[1;32m     68\u001b[0m     \u001b[0;32mdef\u001b[0m \u001b[0m_do_sync_get_request\u001b[0m\u001b[0;34m(\u001b[0m\u001b[0mcls\u001b[0m\u001b[0;34m,\u001b[0m \u001b[0mresource\u001b[0m\u001b[0;34m)\u001b[0m\u001b[0;34m:\u001b[0m\u001b[0;34m\u001b[0m\u001b[0;34m\u001b[0m\u001b[0m\n\u001b[0;32m---> 69\u001b[0;31m         r = requests.get(\n\u001b[0m\u001b[1;32m     70\u001b[0m             \u001b[0;34m**\u001b[0m\u001b[0mresource\u001b[0m\u001b[0;34m.\u001b[0m\u001b[0mrequest_config\u001b[0m\u001b[0;34m,\u001b[0m\u001b[0;34m\u001b[0m\u001b[0;34m\u001b[0m\u001b[0m\n\u001b[1;32m     71\u001b[0m             \u001b[0;34m**\u001b[0m\u001b[0mcls\u001b[0m\u001b[0;34m.\u001b[0m\u001b[0mrequest_config\u001b[0m\u001b[0;34m,\u001b[0m\u001b[0;34m\u001b[0m\u001b[0;34m\u001b[0m\u001b[0m\n",
      "\u001b[0;32m~/opt/anaconda3/lib/python3.8/site-packages/requests/api.py\u001b[0m in \u001b[0;36mget\u001b[0;34m(url, params, **kwargs)\u001b[0m\n\u001b[1;32m     71\u001b[0m     \"\"\"\n\u001b[1;32m     72\u001b[0m \u001b[0;34m\u001b[0m\u001b[0m\n\u001b[0;32m---> 73\u001b[0;31m     \u001b[0;32mreturn\u001b[0m \u001b[0mrequest\u001b[0m\u001b[0;34m(\u001b[0m\u001b[0;34m\"get\"\u001b[0m\u001b[0;34m,\u001b[0m \u001b[0murl\u001b[0m\u001b[0;34m,\u001b[0m \u001b[0mparams\u001b[0m\u001b[0;34m=\u001b[0m\u001b[0mparams\u001b[0m\u001b[0;34m,\u001b[0m \u001b[0;34m**\u001b[0m\u001b[0mkwargs\u001b[0m\u001b[0;34m)\u001b[0m\u001b[0;34m\u001b[0m\u001b[0;34m\u001b[0m\u001b[0m\n\u001b[0m\u001b[1;32m     74\u001b[0m \u001b[0;34m\u001b[0m\u001b[0m\n\u001b[1;32m     75\u001b[0m \u001b[0;34m\u001b[0m\u001b[0m\n",
      "\u001b[0;32m~/opt/anaconda3/lib/python3.8/site-packages/requests/api.py\u001b[0m in \u001b[0;36mrequest\u001b[0;34m(method, url, **kwargs)\u001b[0m\n\u001b[1;32m     57\u001b[0m     \u001b[0;31m# cases, and look like a memory leak in others.\u001b[0m\u001b[0;34m\u001b[0m\u001b[0;34m\u001b[0m\u001b[0;34m\u001b[0m\u001b[0m\n\u001b[1;32m     58\u001b[0m     \u001b[0;32mwith\u001b[0m \u001b[0msessions\u001b[0m\u001b[0;34m.\u001b[0m\u001b[0mSession\u001b[0m\u001b[0;34m(\u001b[0m\u001b[0;34m)\u001b[0m \u001b[0;32mas\u001b[0m \u001b[0msession\u001b[0m\u001b[0;34m:\u001b[0m\u001b[0;34m\u001b[0m\u001b[0;34m\u001b[0m\u001b[0m\n\u001b[0;32m---> 59\u001b[0;31m         \u001b[0;32mreturn\u001b[0m \u001b[0msession\u001b[0m\u001b[0;34m.\u001b[0m\u001b[0mrequest\u001b[0m\u001b[0;34m(\u001b[0m\u001b[0mmethod\u001b[0m\u001b[0;34m=\u001b[0m\u001b[0mmethod\u001b[0m\u001b[0;34m,\u001b[0m \u001b[0murl\u001b[0m\u001b[0;34m=\u001b[0m\u001b[0murl\u001b[0m\u001b[0;34m,\u001b[0m \u001b[0;34m**\u001b[0m\u001b[0mkwargs\u001b[0m\u001b[0;34m)\u001b[0m\u001b[0;34m\u001b[0m\u001b[0;34m\u001b[0m\u001b[0m\n\u001b[0m\u001b[1;32m     60\u001b[0m \u001b[0;34m\u001b[0m\u001b[0m\n\u001b[1;32m     61\u001b[0m \u001b[0;34m\u001b[0m\u001b[0m\n",
      "\u001b[0;31mTypeError\u001b[0m: request() got an unexpected keyword argument 'User-Agent'"
     ]
    }
   ],
   "source": [
    "from chessdotcom import get_player_profile\n",
    "\n",
    "response = get_player_profile(\"fabianocaruana\")\n",
    "\n",
    "player_name = response.json['player']['name']"
   ]
  },
  {
   "cell_type": "code",
   "execution_count": 17,
   "id": "70e3d78e",
   "metadata": {},
   "outputs": [
    {
     "ename": "RuntimeError",
     "evalue": "asyncio.run() cannot be called from a running event loop",
     "output_type": "error",
     "traceback": [
      "\u001b[0;31m---------------------------------------------------------------------------\u001b[0m",
      "\u001b[0;31mRuntimeError\u001b[0m                              Traceback (most recent call last)",
      "\u001b[0;32m<ipython-input-17-5440d4006b16>\u001b[0m in \u001b[0;36m<module>\u001b[0;34m\u001b[0m\n\u001b[1;32m     14\u001b[0m    \u001b[0;32mreturn\u001b[0m \u001b[0mresponses\u001b[0m\u001b[0;34m\u001b[0m\u001b[0;34m\u001b[0m\u001b[0m\n\u001b[1;32m     15\u001b[0m \u001b[0;34m\u001b[0m\u001b[0m\n\u001b[0;32m---> 16\u001b[0;31m \u001b[0mresponses\u001b[0m \u001b[0;34m=\u001b[0m \u001b[0masyncio\u001b[0m\u001b[0;34m.\u001b[0m\u001b[0mrun\u001b[0m\u001b[0;34m(\u001b[0m\u001b[0mgather_cors\u001b[0m\u001b[0;34m(\u001b[0m\u001b[0mcors\u001b[0m\u001b[0;34m)\u001b[0m\u001b[0;34m)\u001b[0m\u001b[0;34m\u001b[0m\u001b[0;34m\u001b[0m\u001b[0m\n\u001b[0m",
      "\u001b[0;32m~/opt/anaconda3/lib/python3.8/asyncio/runners.py\u001b[0m in \u001b[0;36mrun\u001b[0;34m(main, debug)\u001b[0m\n\u001b[1;32m     31\u001b[0m     \"\"\"\n\u001b[1;32m     32\u001b[0m     \u001b[0;32mif\u001b[0m \u001b[0mevents\u001b[0m\u001b[0;34m.\u001b[0m\u001b[0m_get_running_loop\u001b[0m\u001b[0;34m(\u001b[0m\u001b[0;34m)\u001b[0m \u001b[0;32mis\u001b[0m \u001b[0;32mnot\u001b[0m \u001b[0;32mNone\u001b[0m\u001b[0;34m:\u001b[0m\u001b[0;34m\u001b[0m\u001b[0;34m\u001b[0m\u001b[0m\n\u001b[0;32m---> 33\u001b[0;31m         raise RuntimeError(\n\u001b[0m\u001b[1;32m     34\u001b[0m             \"asyncio.run() cannot be called from a running event loop\")\n\u001b[1;32m     35\u001b[0m \u001b[0;34m\u001b[0m\u001b[0m\n",
      "\u001b[0;31mRuntimeError\u001b[0m: asyncio.run() cannot be called from a running event loop"
     ]
    }
   ],
   "source": [
    "import asyncio\n",
    "\n",
    "from chessdotcom.aio import get_player_profile, Client\n",
    "#or\n",
    "#from chessdotcom import Client\n",
    "#Client.aio = True\n",
    "\n",
    "usernames = [\"fabianocaruana\", \"GMHikaruOnTwitch\", \"MagnusCarlsen\", \"GarryKasparov\"]\n",
    "\n",
    "cors = [get_player_profile(name) for name in usernames]\n",
    "\n",
    "async def gather_cors(cors):\n",
    "   responses = await asyncio.gather(*cors)\n",
    "   return responses\n",
    "\n",
    "responses = asyncio.run(gather_cors(cors))"
   ]
  },
  {
   "cell_type": "code",
   "execution_count": 3,
   "id": "ac4aed9a",
   "metadata": {},
   "outputs": [
    {
     "name": "stderr",
     "output_type": "stream",
     "text": [
      "Getting players: 100%|██████████| 249/249 [00:27<00:00,  9.07it/s]\n",
      "Getting games:   0%|          | 3073/941524 [2:45:10<840:39:54,  3.22s/it]\n"
     ]
    },
    {
     "ename": "CancelledError",
     "evalue": "",
     "output_type": "error",
     "traceback": [
      "\u001b[0;31m---------------------------------------------------------------------------\u001b[0m",
      "\u001b[0;31mCancelledError\u001b[0m                            Traceback (most recent call last)",
      "\u001b[0;32m<ipython-input-3-e20ec788e8b2>\u001b[0m in \u001b[0;36m<module>\u001b[0;34m\u001b[0m\n\u001b[1;32m    111\u001b[0m \u001b[0;34m\u001b[0m\u001b[0m\n\u001b[1;32m    112\u001b[0m \u001b[0;31m# Run Scraper\u001b[0m\u001b[0;34m\u001b[0m\u001b[0;34m\u001b[0m\u001b[0;34m\u001b[0m\u001b[0m\n\u001b[0;32m--> 113\u001b[0;31m \u001b[0;32mawait\u001b[0m \u001b[0mmain\u001b[0m\u001b[0;34m(\u001b[0m\u001b[0;34m)\u001b[0m\u001b[0;34m\u001b[0m\u001b[0;34m\u001b[0m\u001b[0m\n\u001b[0m",
      "\u001b[0;32m<ipython-input-3-e20ec788e8b2>\u001b[0m in \u001b[0;36mmain\u001b[0;34m()\u001b[0m\n\u001b[1;32m    102\u001b[0m \u001b[0;34m\u001b[0m\u001b[0m\n\u001b[1;32m    103\u001b[0m     \u001b[0;31m# get monthly games for each player (Aug 2023)\u001b[0m\u001b[0;34m\u001b[0m\u001b[0;34m\u001b[0m\u001b[0;34m\u001b[0m\u001b[0m\n\u001b[0;32m--> 104\u001b[0;31m     \u001b[0mgames\u001b[0m \u001b[0;34m=\u001b[0m \u001b[0;32mawait\u001b[0m \u001b[0mget_games\u001b[0m\u001b[0;34m(\u001b[0m\u001b[0mall_players\u001b[0m\u001b[0;34m,\u001b[0m \u001b[0mmonth\u001b[0m \u001b[0;34m=\u001b[0m \u001b[0;34m'08'\u001b[0m\u001b[0;34m,\u001b[0m \u001b[0myear\u001b[0m \u001b[0;34m=\u001b[0m \u001b[0;34m'2023'\u001b[0m\u001b[0;34m)\u001b[0m\u001b[0;34m\u001b[0m\u001b[0;34m\u001b[0m\u001b[0m\n\u001b[0m\u001b[1;32m    105\u001b[0m \u001b[0;34m\u001b[0m\u001b[0m\n\u001b[1;32m    106\u001b[0m     \u001b[0;31m# convert games into df\u001b[0m\u001b[0;34m\u001b[0m\u001b[0;34m\u001b[0m\u001b[0;34m\u001b[0m\u001b[0m\n",
      "\u001b[0;32m<ipython-input-3-e20ec788e8b2>\u001b[0m in \u001b[0;36mget_games\u001b[0;34m(all_players, month, year)\u001b[0m\n\u001b[1;32m     46\u001b[0m     \u001b[0;32mfor\u001b[0m \u001b[0mplayer\u001b[0m \u001b[0;32min\u001b[0m \u001b[0mtqdm\u001b[0m\u001b[0;34m(\u001b[0m\u001b[0mall_players\u001b[0m\u001b[0;34m,\u001b[0m \u001b[0mdesc\u001b[0m\u001b[0;34m=\u001b[0m\u001b[0;34m'Getting games'\u001b[0m\u001b[0;34m)\u001b[0m\u001b[0;34m:\u001b[0m\u001b[0;34m\u001b[0m\u001b[0;34m\u001b[0m\u001b[0m\n\u001b[1;32m     47\u001b[0m       \u001b[0;32mtry\u001b[0m\u001b[0;34m:\u001b[0m\u001b[0;34m\u001b[0m\u001b[0;34m\u001b[0m\u001b[0m\n\u001b[0;32m---> 48\u001b[0;31m         \u001b[0mdata\u001b[0m \u001b[0;34m=\u001b[0m \u001b[0;32mawait\u001b[0m \u001b[0masyncio\u001b[0m\u001b[0;34m.\u001b[0m\u001b[0mgather\u001b[0m\u001b[0;34m(\u001b[0m\u001b[0mget_player_games_by_month\u001b[0m\u001b[0;34m(\u001b[0m\u001b[0musername\u001b[0m \u001b[0;34m=\u001b[0m \u001b[0mplayer\u001b[0m\u001b[0;34m,\u001b[0m \u001b[0myear\u001b[0m \u001b[0;34m=\u001b[0m \u001b[0myear\u001b[0m\u001b[0;34m,\u001b[0m \u001b[0mmonth\u001b[0m \u001b[0;34m=\u001b[0m \u001b[0mmonth\u001b[0m\u001b[0;34m)\u001b[0m\u001b[0;34m)\u001b[0m\u001b[0;34m\u001b[0m\u001b[0;34m\u001b[0m\u001b[0m\n\u001b[0m\u001b[1;32m     49\u001b[0m         \u001b[0mgames\u001b[0m\u001b[0;34m.\u001b[0m\u001b[0mextend\u001b[0m\u001b[0;34m(\u001b[0m\u001b[0mlist\u001b[0m\u001b[0;34m(\u001b[0m\u001b[0mdata\u001b[0m\u001b[0;34m[\u001b[0m\u001b[0;36m0\u001b[0m\u001b[0;34m]\u001b[0m\u001b[0;34m.\u001b[0m\u001b[0mjson\u001b[0m\u001b[0;34m.\u001b[0m\u001b[0mvalues\u001b[0m\u001b[0;34m(\u001b[0m\u001b[0;34m)\u001b[0m\u001b[0;34m)\u001b[0m\u001b[0;34m[\u001b[0m\u001b[0;36m0\u001b[0m\u001b[0;34m]\u001b[0m\u001b[0;34m)\u001b[0m\u001b[0;34m\u001b[0m\u001b[0;34m\u001b[0m\u001b[0m\n\u001b[1;32m     50\u001b[0m       \u001b[0;32mexcept\u001b[0m \u001b[0mChessDotComError\u001b[0m\u001b[0;34m:\u001b[0m\u001b[0;34m\u001b[0m\u001b[0;34m\u001b[0m\u001b[0m\n",
      "\u001b[0;31mCancelledError\u001b[0m: "
     ]
    }
   ],
   "source": [
    "import pandas as pd\n",
    "import asyncio\n",
    "from tqdm import tqdm\n",
    "from chessdotcom.aio import ChessDotComError, get_country_players, get_country_clubs, get_club_members, get_player_games_by_month\n",
    "\n",
    "\"\"\"\n",
    "This is a script to scrape online chess games from chess.com's public API (https://www.chess.com/news/view/published-data-api#pubapi-endpoint-country-players). \n",
    "The Chess.com Python Wrapper (https://chesscom.readthedocs.io/_/downloads/en/latest/pdf/) is used to leverage pre-built methods that can access all endpoints \n",
    "provided by the API. Asynchronous requests are made to gather relevant information such as lists of chess.com users by country, stats related to each user, \n",
    "and monthly games played by each user. Final dataset is exported as \"raw_data.csv\".\n",
    "\"\"\"\n",
    "\n",
    "async def get_players(country):\n",
    "    \"\"\"\n",
    "    This function returns a list of users that identify themselves as being in the given country. The chess.com API does not support pagination\n",
    "    as of 09/01/23, therefore the list that is returned only consists of the first 10,000 usernames in alphabetical order.\n",
    "    \"\"\"\n",
    "    players = await asyncio.gather(get_country_players(country))\n",
    "    return list(players[0].json.values())[0]\n",
    "\n",
    "async def get_club_players(country):\n",
    "    \"\"\"\n",
    "    This function returns a list of members from all clubs that are located in or are associated with the given country.\n",
    "    \"\"\"\n",
    "    clubs = await asyncio.gather(get_country_clubs(country))\n",
    "    clubs = [x.split('club/')[1] for x in list(clubs[0].json.values())[0]]\n",
    "\n",
    "    club_players = []\n",
    "\n",
    "    for club in clubs:\n",
    "      print(club)\n",
    "      club_dict = await asyncio.gather(get_club_members(club))\n",
    "      club_dict = list(club_dict[0].json.values())[0]\n",
    "\n",
    "      for activity_level in club_dict:\n",
    "        club_players.extend([x['username'] for x in club_dict[activity_level]])\n",
    "\n",
    "      return club_players\n",
    "\n",
    "async def get_games(all_players, month, year):\n",
    "    \"\"\"\n",
    "    This function converts the json \n",
    "    \"\"\"\n",
    "    games = []\n",
    "\n",
    "    for player in tqdm(all_players, desc='Getting games'):\n",
    "      try:\n",
    "        data = await asyncio.gather(get_player_games_by_month(username = player, year = year, month = month))\n",
    "        games.extend(list(data[0].json.values())[0])\n",
    "      except ChessDotComError:\n",
    "        continue\n",
    "\n",
    "    return games\n",
    "\n",
    "def parse_games(games):\n",
    "    \"\"\"\n",
    "    This functions\n",
    "    \"\"\"\n",
    "    games_df = []\n",
    "\n",
    "    for game in tqdm(games, desc='Parsing games'):\n",
    "      game_id = game['url'].split('/')[-1]\n",
    "\n",
    "      white_rating = game['white']['rating']\n",
    "      black_rating = game['black']['rating']\n",
    "      white_result = game['white']['result']\n",
    "      black_result = game['black']['result']\n",
    "      try:\n",
    "        pgn = game['pgn'].split('\\n\\n')[1][:-5]\n",
    "        opening = game['pgn'].split('openings/')[1].split('\"]')[0]\n",
    "      except (KeyError, IndexError):\n",
    "        pgn = None\n",
    "        opening = None\n",
    "\n",
    "      time_class = game['time_class']\n",
    "      time_control = game['time_control']\n",
    "      rated = game['rated']\n",
    "      rules = game['rules']\n",
    "\n",
    "      games_df.append({'game_id':game_id, 'opening':opening, 'white_rating':white_rating, 'black_rating':black_rating, 'white_result':white_result,\n",
    "                      'black_result':black_result, 'time_class':time_class, 'time_control':time_control, 'rated':rated, 'rules':rules, 'pgn':pgn})\n",
    "      \n",
    "    return pd.DataFrame.from_records(games_df)\n",
    "\n",
    "async def main():\n",
    "\n",
    "    all_players = []\n",
    "\n",
    "    # get list of countries (2-character iso 3166 codes)\n",
    "    countries = pd.read_csv('iso_3166_codes.csv')['alpha-2']\n",
    "\n",
    "    # get players from each country\n",
    "    for country in tqdm(countries, desc='Getting players'):\n",
    "      try :\n",
    "        all_players.extend(await get_players(country))\n",
    "\n",
    "        # uncomment below for larger dataset - WARNING: significantly increases runtime\n",
    "        #all_players.extend(await get_club_players(country))\n",
    "\n",
    "      except ChessDotComError:\n",
    "        pass\n",
    "\n",
    "    # get monthly games for each player (Aug 2023)\n",
    "    games = await get_games(all_players, month = '08', year = '2023')\n",
    "\n",
    "    # convert games into df\n",
    "    games_df = parse_games(games)\n",
    "\n",
    "    # output csv\n",
    "    games_df.to_csv('raw_data.csv')\n",
    "\n",
    "# Run Scraper\n",
    "await main()\n"
   ]
  }
 ],
 "metadata": {
  "kernelspec": {
   "display_name": "Python 3",
   "language": "python",
   "name": "python3"
  }
 },
 "nbformat": 4,
 "nbformat_minor": 5
}
